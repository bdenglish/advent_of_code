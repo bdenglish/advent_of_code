{
 "cells": [
  {
   "cell_type": "code",
   "execution_count": null,
   "id": "71062a38",
   "metadata": {},
   "outputs": [],
   "source": [
    "import re\n",
    "\n",
    "with open('2-1.txt', 'r') as f:\n",
    "    data = f.read()\n",
    "\n",
    "data = [re.sub(' +', ' ', line).split(' ') for line in data.split('\\n') if re.sub(' +', ' ', line).split(' ')[0].isnumeric()]\n"
   ]
  },
  {
   "cell_type": "code",
   "execution_count": null,
   "id": "732015fa",
   "metadata": {},
   "outputs": [],
   "source": [
    "def is_monotonic_with_max_diff(numbers, max_diff=3):\n",
    "    if len(numbers) < 2:\n",
    "        return True\n",
    "    \n",
    "    diffs = [numbers[i+1] - numbers[i] for i in range(len(numbers)-1)]\n",
    "    \n",
    "    all_increasing = all(1 <= diff <= max_diff for diff in diffs)\n",
    "    all_decreasing = all(-max_diff <= diff <= -1 for diff in diffs)\n",
    "    \n",
    "    return all_increasing or all_decreasing\n",
    "\n",
    "def is_safe_part1(report):\n",
    "    return is_monotonic_with_max_diff(report)\n",
    "\n",
    "def is_safe_part2(report):\n",
    "    # First check if it's safe without removing any number\n",
    "    if is_safe_part1(report):\n",
    "        return True\n",
    "    \n",
    "    # Try removing each number once\n",
    "    for i in range(len(report)):\n",
    "        modified_report = report[:i] + report[i+1:]\n",
    "        if is_safe_part1(modified_report):\n",
    "            return True\n",
    "    \n",
    "    return False\n",
    "\n",
    "# Test with example data\n",
    "# example_data = [\n",
    "#     [7, 6, 4, 2, 1],\n",
    "#     [1, 2, 7, 8, 9],\n",
    "#     [9, 7, 6, 2, 1],\n",
    "#     [1, 3, 2, 4, 5],\n",
    "#     [8, 6, 4, 4, 1],\n",
    "#     [1, 3, 6, 7, 9]\n",
    "# ]\n",
    "example_data = [[int(x) for x in y] for y in data]\n",
    "\n",
    "# Part 1\n",
    "safe_count_part1 = sum(1 for report in example_data if is_safe_part1(report))\n",
    "print(f\"Part 1 Example - Safe reports: {safe_count_part1}\")  # Should output 2\n",
    "\n",
    "# Part 2\n",
    "safe_count_part2 = sum(1 for report in example_data if is_safe_part2(report))\n",
    "print(f\"Part 2 Example - Safe reports: {safe_count_part2}\")  # Should output 4"
   ]
  }
 ],
 "metadata": {
  "kernelspec": {
   "display_name": "Python 3 (ipykernel)",
   "language": "python",
   "name": "python3"
  },
  "language_info": {
   "codemirror_mode": {
    "name": "ipython",
    "version": 3
   },
   "file_extension": ".py",
   "mimetype": "text/x-python",
   "name": "python",
   "nbconvert_exporter": "python",
   "pygments_lexer": "ipython3",
   "version": "3.11.0"
  }
 },
 "nbformat": 4,
 "nbformat_minor": 5
}
