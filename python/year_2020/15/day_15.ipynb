{
 "cells": [
  {
   "cell_type": "markdown",
   "metadata": {},
   "source": [
    "### day 15\n",
    "attempting to do this in a jupyter notebook from my ipad"
   ]
  },
  {
   "cell_type": "code",
   "execution_count": 1,
   "metadata": {},
   "outputs": [],
   "source": [
    "from collections import Counter, deque\n"
   ]
  },
  {
   "cell_type": "code",
   "execution_count": 3,
   "metadata": {},
   "outputs": [
    {
     "name": "stdout",
     "output_type": "stream",
     "text": [
      "1000000\n",
      "2000000\n",
      "3000000\n",
      "4000000\n",
      "5000000\n",
      "6000000\n",
      "7000000\n",
      "8000000\n",
      "9000000\n",
      "10000000\n",
      "11000000\n",
      "12000000\n",
      "13000000\n",
      "14000000\n",
      "15000000\n",
      "16000000\n",
      "17000000\n",
      "18000000\n",
      "19000000\n",
      "20000000\n",
      "21000000\n",
      "22000000\n",
      "23000000\n",
      "24000000\n",
      "25000000\n",
      "26000000\n",
      "27000000\n",
      "28000000\n",
      "29000000\n",
      "29999999 548531\n",
      "30000000\n"
     ]
    }
   ],
   "source": [
    "last_used = {0: deque([0, 1]), \n",
    "             13: deque([0, 2]), \n",
    "             1: deque([0, 3]), \n",
    "             8: deque([0, 4]), \n",
    "             6: deque([0, 5]), \n",
    "             15: deque([0, 6])}\n",
    "numbers = list(last_used.keys())\n",
    "n_counts = Counter(numbers)\n",
    "n_1 = numbers[-1]\n",
    "target_number = 30000000\n",
    "\n",
    "for i in range(len(numbers), target_number + 1):\n",
    "    if i % 1000000 == 0:\n",
    "        print(i)\n",
    "    if n_counts[n_1] <= 1:\n",
    "        n = 0\n",
    "        if n_1 in last_used.keys():\n",
    "            d = last_used[n_1]\n",
    "            d.popleft()\n",
    "            d.append(i)\n",
    "        else:\n",
    "            last_used[n_1] = deque([0, i])\n",
    "    else:\n",
    "        d = last_used[n_1]\n",
    "        d.popleft()\n",
    "        d.append(i)\n",
    "        n = d[1] - d[0] \n",
    "    n_1 = n\n",
    "    if i == 30000000 - 1:\n",
    "        print(i, n)\n",
    "    n_counts[n] = n_counts[n] + 1"
   ]
  },
  {
   "cell_type": "code",
   "execution_count": null,
   "metadata": {},
   "outputs": [],
   "source": []
  }
 ],
 "metadata": {
  "kernelspec": {
   "display_name": "Python 3",
   "language": "python",
   "name": "python3"
  },
  "language_info": {
   "codemirror_mode": {
    "name": "ipython",
    "version": 3
   },
   "file_extension": ".py",
   "mimetype": "text/x-python",
   "name": "python",
   "nbconvert_exporter": "python",
   "pygments_lexer": "ipython3",
   "version": "3.7.4"
  }
 },
 "nbformat": 4,
 "nbformat_minor": 4
}
