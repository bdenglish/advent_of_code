{
 "cells": [
  {
   "cell_type": "code",
   "execution_count": 159,
   "id": "71062a38",
   "metadata": {},
   "outputs": [],
   "source": [
    "import re\n",
    "\n",
    "with open('5-1.txt', 'r') as f:\n",
    "    data = f.read()"
   ]
  },
  {
   "cell_type": "code",
   "execution_count": 160,
   "id": "2c00c35b",
   "metadata": {},
   "outputs": [],
   "source": [
    "data = data.strip().split('\\n\\n')"
   ]
  },
  {
   "cell_type": "code",
   "execution_count": 161,
   "id": "73efe2e7",
   "metadata": {},
   "outputs": [],
   "source": [
    "rules = data[0].split('\\n')\n",
    "updates = data[1].split('\\n')"
   ]
  },
  {
   "cell_type": "code",
   "execution_count": 158,
   "id": "e319097d",
   "metadata": {},
   "outputs": [],
   "source": [
    "rules = [\n",
    "    '47|53',\n",
    "    '97|13',\n",
    "    '97|61',\n",
    "    '97|47',\n",
    "    '75|29',\n",
    "    '61|13',\n",
    "    '75|53',\n",
    "    '29|13',\n",
    "    '97|29',\n",
    "    '53|29',\n",
    "    '61|53',\n",
    "    '97|53',\n",
    "    '61|29',\n",
    "    '47|13',\n",
    "    '75|47',\n",
    "    '97|75',\n",
    "    '47|61',\n",
    "    '75|61',\n",
    "    '47|29',\n",
    "    '75|13',\n",
    "    '53|13']\n",
    "updates = [\n",
    "    '75,47,61,53,29',\n",
    "    '97,61,53,29,13',\n",
    "    '75,29,13',\n",
    "    '75,97,47,61,53',\n",
    "    '61,13,29',\n",
    "    '97,13,75,29,47']"
   ]
  },
  {
   "cell_type": "code",
   "execution_count": 162,
   "id": "ef797b3d",
   "metadata": {},
   "outputs": [
    {
     "name": "stdout",
     "output_type": "stream",
     "text": [
      "the answer is: 5452\n"
     ]
    }
   ],
   "source": [
    "from collections import defaultdict\n",
    "\n",
    "\n",
    "rules_before = defaultdict(set)\n",
    "rules_after = defaultdict(set)\n",
    "\n",
    "\n",
    "def build_rules(rules):\n",
    "    for r in rules:\n",
    "        before, after = r.split('|')\n",
    "        before = int(before)\n",
    "        after = int(after)\n",
    "        rules_before[before].add(after)\n",
    "        rules_after[after].add(before)\n",
    "\n",
    "def check_update(update):\n",
    "    update = [int(u) for u in update.split(',')]\n",
    "    for i, u in enumerate(update):\n",
    "        # check all following numbers in `update` and make sure that they do not exist in the before\n",
    "        # print(f'checking update ({i}) value: {u}')\n",
    "        for n in update[i+1:]:\n",
    "            if n not in rules_before[u]:\n",
    "                # print(f'{n} not in the rules that specify {u} is before {n} - {u}:{rules_before[u]}')\n",
    "                return False\n",
    "        # check all previous numbers in `update` and make sure that they do not exist in the after\n",
    "        for n in update [:i]:\n",
    "            if n not in rules_after[u]:\n",
    "                # print(f'{n} not in the rules that specify {u} is after {n} - {u}:{rules_after[u]}')\n",
    "                return False\n",
    "    return update\n",
    "    \n",
    "build_rules(rules)\n",
    "\n",
    "middle_numbers = []\n",
    "incorrect = []\n",
    "for j, update in enumerate(updates):\n",
    "    if _update := check_update(update):\n",
    "        # print(f'update ({j}) - {_update} is correct')\n",
    "        middle_numbers.append(_update[int(len(_update) / 2)])\n",
    "    else:\n",
    "        # print(f'update ({j}) - {update} is wrong') \n",
    "        incorrect.append([int(u) for u in update.split(',')])\n",
    "        \n",
    "print(f'the answer is: {sum(middle_numbers)}')"
   ]
  },
  {
   "cell_type": "code",
   "execution_count": 175,
   "id": "b1d52966",
   "metadata": {},
   "outputs": [
    {
     "name": "stdout",
     "output_type": "stream",
     "text": [
      "the answer is: 4598\n"
     ]
    }
   ],
   "source": [
    "def correct_order(update, e=1):\n",
    "    for i, u in enumerate(update):\n",
    "        # check all following numbers in `update` and make sure that they do not exist in the before\n",
    "        # print(f'checking update ({i}) value: {u}')\n",
    "        for n in update[i+1:]:\n",
    "            if n not in rules_before[u]:\n",
    "                # print(f'{n} not in the rules that specify {u} is before {n} - {u}:{rules_before[u]} shifting right')\n",
    "                new_order = update[:i] + update[i + 1: i + 1 + e] + [update[i]] + update[i + 1 + e:]\n",
    "                # print(f'new_order: {new_order}')\n",
    "                return correct_order(new_order, e + 1)\n",
    "    return update\n",
    "\n",
    "middle_numbers = []\n",
    "for j, update in enumerate(incorrect):\n",
    "    if _update := correct_order(update):\n",
    "        # print(f'update ({j}) - {_update} is correct')\n",
    "        middle_numbers.append(_update[int(len(_update) / 2)])\n",
    "        \n",
    "print(f'the answer is: {sum(middle_numbers)}')"
   ]
  }
 ],
 "metadata": {
  "kernelspec": {
   "display_name": "Python 3 (ipykernel)",
   "language": "python",
   "name": "python3"
  },
  "language_info": {
   "codemirror_mode": {
    "name": "ipython",
    "version": 3
   },
   "file_extension": ".py",
   "mimetype": "text/x-python",
   "name": "python",
   "nbconvert_exporter": "python",
   "pygments_lexer": "ipython3",
   "version": "3.11.0"
  }
 },
 "nbformat": 4,
 "nbformat_minor": 5
}
