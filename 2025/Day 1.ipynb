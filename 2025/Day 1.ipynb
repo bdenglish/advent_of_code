{
 "cells": [
  {
   "cell_type": "code",
   "execution_count": 54,
   "id": "c40799bf",
   "metadata": {},
   "outputs": [],
   "source": [
    "import re\n",
    "\n",
    "with open('1-1.txt', 'r') as f:\n",
    "    data = f.read()\n",
    "\n",
    "data = [re.sub(' +', ' ', line).split(' ') for line in data.split('\\n') if re.sub(' +', ' ', line).split(' ')[0].isnumeric()]"
   ]
  },
  {
   "cell_type": "code",
   "execution_count": 55,
   "id": "3c324e77",
   "metadata": {},
   "outputs": [],
   "source": [
    "loc_1 = sorted([int(n[0]) for n in data])\n",
    "loc_2 = sorted([int(n[1]) for n in data])"
   ]
  },
  {
   "cell_type": "code",
   "execution_count": 56,
   "id": "048aa882",
   "metadata": {},
   "outputs": [
    {
     "name": "stdout",
     "output_type": "stream",
     "text": [
      "1651298\n"
     ]
    }
   ],
   "source": [
    "s = 0\n",
    "for i, v in enumerate(loc_1):\n",
    "    s += abs(v - loc_2[i])\n",
    "\n",
    "print(s)"
   ]
  },
  {
   "cell_type": "code",
   "execution_count": 57,
   "id": "53ac261c",
   "metadata": {},
   "outputs": [
    {
     "name": "stdout",
     "output_type": "stream",
     "text": [
      "21306195\n"
     ]
    }
   ],
   "source": [
    "from collections import Counter\n",
    "\n",
    "right_list_counts = Counter(loc_2)\n",
    "s = 0\n",
    "for i, v in enumerate(loc_1):\n",
    "    if v in right_list_counts:\n",
    "        s += v * right_list_counts[v]\n",
    "\n",
    "print(s)"
   ]
  },
  {
   "cell_type": "code",
   "execution_count": null,
   "id": "30210b5d",
   "metadata": {},
   "outputs": [],
   "source": []
  }
 ],
 "metadata": {
  "kernelspec": {
   "display_name": "Python 3 (ipykernel)",
   "language": "python",
   "name": "python3"
  },
  "language_info": {
   "codemirror_mode": {
    "name": "ipython",
    "version": 3
   },
   "file_extension": ".py",
   "mimetype": "text/x-python",
   "name": "python",
   "nbconvert_exporter": "python",
   "pygments_lexer": "ipython3",
   "version": "3.11.0"
  }
 },
 "nbformat": 4,
 "nbformat_minor": 5
}
